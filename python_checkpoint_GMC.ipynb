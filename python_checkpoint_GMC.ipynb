{
 "cells": [
  {
   "cell_type": "markdown",
   "id": "2eaa41a3-2b9a-4025-bae4-b1ba04094d35",
   "metadata": {},
   "source": [
    "Question 1"
   ]
  },
  {
   "cell_type": "code",
   "execution_count": 1,
   "id": "3fca3b7f-0417-40a7-a844-6beb0aa49714",
   "metadata": {},
   "outputs": [
    {
     "name": "stdout",
     "output_type": "stream",
     "text": [
      "[2002, 2009, 2016, 2023, 2037, 2044, 2051, 2058, 2072, 2079, 2086, 2093, 2107, 2114, 2121, 2128, 2142, 2149, 2156, 2163, 2177, 2184, 2191, 2198, 2212, 2219, 2226, 2233, 2247, 2254, 2261, 2268, 2282, 2289, 2296, 2303, 2317, 2324, 2331, 2338, 2352, 2359, 2366, 2373, 2387, 2394, 2401, 2408, 2422, 2429, 2436, 2443, 2457, 2464, 2471, 2478, 2492, 2499, 2506, 2513, 2527, 2534, 2541, 2548, 2562, 2569, 2576, 2583, 2597, 2604, 2611, 2618, 2632, 2639, 2646, 2653, 2667, 2674, 2681, 2688, 2702, 2709, 2716, 2723, 2737, 2744, 2751, 2758, 2772, 2779, 2786, 2793, 2807, 2814, 2821, 2828, 2842, 2849, 2856, 2863, 2877, 2884, 2891, 2898, 2912, 2919, 2926, 2933, 2947, 2954, 2961, 2968, 2982, 2989, 2996, 3003, 3017, 3024, 3031, 3038, 3052, 3059, 3066, 3073, 3087, 3094, 3101, 3108, 3122, 3129, 3136, 3143, 3157, 3164, 3171, 3178, 3192, 3199]\n"
     ]
    }
   ],
   "source": [
    "variable = range(2000, 3200)\n",
    "me = []\n",
    "for i in variable:\n",
    "    if i % 7 == 0 and i % 5 != 0:\n",
    "        me.append (i)\n",
    "        \n",
    "        \n",
    "print(me)"
   ]
  },
  {
   "cell_type": "markdown",
   "id": "403491a2-d928-4bc6-bcc1-4ca841dc3678",
   "metadata": {},
   "source": [
    "Question 2"
   ]
  },
  {
   "cell_type": "code",
   "execution_count": 2,
   "id": "5f23b5cc-bee2-42af-b2c6-b12ad38275f5",
   "metadata": {},
   "outputs": [
    {
     "name": "stdin",
     "output_type": "stream",
     "text": [
      "Enter the number: 5\n"
     ]
    },
    {
     "name": "stdout",
     "output_type": "stream",
     "text": [
      "Factorial of 5 is 120\n"
     ]
    }
   ],
   "source": [
    "## Question 2 - Solution\n",
    "import math  \n",
    "def fact(n):  \n",
    "    return(math.factorial(n))  \n",
    "  \n",
    "num = int(input(\"Enter the number:\"))  \n",
    "f = fact(num)  \n",
    "print(\"Factorial of\", num, \"is\", f)  "
   ]
  },
  {
   "cell_type": "markdown",
   "id": "6ac33afa-b20d-4947-bbd5-58b5ec480e63",
   "metadata": {},
   "source": [
    "Question 3"
   ]
  },
  {
   "cell_type": "code",
   "execution_count": 3,
   "id": "b66c998f-a4a5-4365-8f18-06a448f8daf8",
   "metadata": {},
   "outputs": [
    {
     "name": "stdout",
     "output_type": "stream",
     "text": [
      "{1: 1, 2: 4, 3: 9, 4: 16, 5: 25, 6: 36, 7: 49, 8: 64, 9: 81, 10: 100}\n"
     ]
    }
   ],
   "source": [
    "cynthia = {}\n",
    "for i in range(1,11):\n",
    "    cynthia[i] = i * i\n",
    "print(cynthia)"
   ]
  },
  {
   "cell_type": "markdown",
   "id": "e7f86a1d-f9b9-449b-9258-a7cd2d99d929",
   "metadata": {},
   "source": [
    "Question 4"
   ]
  },
  {
   "cell_type": "code",
   "execution_count": 4,
   "id": "9ccda4ae-d81c-4bf2-bac0-e9c507410bb1",
   "metadata": {},
   "outputs": [
    {
     "name": "stdout",
     "output_type": "stream",
     "text": [
      "ct\n"
     ]
    }
   ],
   "source": [
    "def onyeka(string, b):\n",
    "    b = int(b)\n",
    "    new_string = string.replace(string[b], '')\n",
    "    print(new_string)\n",
    "    \n",
    "    \n",
    "onyeka('cat', 1)"
   ]
  },
  {
   "cell_type": "markdown",
   "id": "f1de752f-c86f-4430-962a-7105690c67f1",
   "metadata": {},
   "source": [
    "Question 5"
   ]
  },
  {
   "cell_type": "code",
   "execution_count": 5,
   "id": "32525471-2c6a-4e76-9c5b-b99b0fb1df43",
   "metadata": {},
   "outputs": [
    {
     "name": "stdout",
     "output_type": "stream",
     "text": [
      "[2, 3]\n"
     ]
    }
   ],
   "source": [
    "import numpy as np\n",
    "\n",
    "def array_to_list(array):\n",
    "    array = np.array(array)\n",
    "    list_arr = array.tolist()\n",
    "    print(list_arr)\n",
    "    \n",
    "    \n",
    "a = [2,3]\n",
    "array_to_list([2,3])\n"
   ]
  },
  {
   "cell_type": "markdown",
   "id": "2ec1f219-c18f-48f8-abe9-8444add5a685",
   "metadata": {},
   "source": [
    "Question 6"
   ]
  },
  {
   "cell_type": "code",
   "execution_count": 6,
   "id": "485a5109-d696-4e79-bb96-ddf015a55cdb",
   "metadata": {},
   "outputs": [
    {
     "name": "stdout",
     "output_type": "stream",
     "text": [
      "[[ 1. -1.]\n",
      " [-1.  1.]]\n"
     ]
    }
   ],
   "source": [
    "def covariance(arr1, arr2):\n",
    "    arr_join = (arr1, arr2)\n",
    "    cov_arr = np.cov(arr_join)\n",
    "    print(cov_arr)\n",
    "\n",
    "a = [0,1,2]\n",
    "b = [2,1,0]\n",
    "\n",
    "covariance(a,b)"
   ]
  },
  {
   "cell_type": "markdown",
   "id": "4ff14e8a-0d64-40a5-88fb-12ef2066ec41",
   "metadata": {},
   "source": [
    "Question 7"
   ]
  },
  {
   "cell_type": "code",
   "execution_count": 7,
   "id": "d3b09cc6-09e6-418f-8427-cf12d11bb55e",
   "metadata": {},
   "outputs": [
    {
     "name": "stdout",
     "output_type": "stream",
     "text": [
      "Please enter a list of values for D separated by space, but first tell us how many items will be in the list\n"
     ]
    },
    {
     "name": "stdin",
     "output_type": "stream",
     "text": [
      "Enter number of elements :  3\n",
      "\n",
      "Enter the numbers :  100 150 180\n"
     ]
    },
    {
     "name": "stdout",
     "output_type": "stream",
     "text": [
      "\n",
      "List is -  [100, 150, 180]\n",
      "\n",
      "\n",
      "The value of Q when D is 100 is 18\n",
      "\n",
      "\n",
      "The value of Q when D is 150 is 22\n",
      "\n",
      "\n",
      "The value of Q when D is 180 is 24\n",
      "\n",
      "\n",
      "The list of values for Q is: [18, 22, 24]\n"
     ]
    }
   ],
   "source": [
    "## Question 7 Solution\n",
    "from math import sqrt\n",
    "C = 50\n",
    "H = 30\n",
    "print('Please enter a list of values for D separated by space, but first tell us how many items will be in the list')\n",
    "n = int(input(\"Enter number of elements : \"))\n",
    " \n",
    "# Below line read inputs from user using map() function\n",
    "D = list(map(int,input(\"\\nEnter the numbers : \").strip().split()))[:n]\n",
    " \n",
    "print(\"\\nList is - \", D)\n",
    "print('\\n')\n",
    "Q_list = []\n",
    "for i in D:\n",
    "\n",
    "    Q1 = 2 * C * i\n",
    "    Q2 = Q1 / H\n",
    "    Q = round(sqrt(Q2))\n",
    "    Q_list.append(Q)\n",
    "    print(f'The value of Q when D is {i} is {Q}')\n",
    "   \n",
    "    print('\\n')\n",
    "    \n",
    "print(f'The list of values for Q is: {Q_list}')"
   ]
  }
 ],
 "metadata": {
  "kernelspec": {
   "display_name": "Python 3 (ipykernel)",
   "language": "python",
   "name": "python3"
  },
  "language_info": {
   "codemirror_mode": {
    "name": "ipython",
    "version": 3
   },
   "file_extension": ".py",
   "mimetype": "text/x-python",
   "name": "python",
   "nbconvert_exporter": "python",
   "pygments_lexer": "ipython3",
   "version": "3.9.7"
  }
 },
 "nbformat": 4,
 "nbformat_minor": 5
}
